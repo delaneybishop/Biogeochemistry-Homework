{
 "cells": [
  {
   "cell_type": "code",
   "execution_count": 1,
   "id": "887a43b4",
   "metadata": {},
   "outputs": [],
   "source": [
    "#import libraries\n",
    "import numpy as np\n",
    "import pandas as pd\n",
    "import matplotlib.pyplot as plt\n",
    "from sklearn.metrics import r2_score\n",
    "import scipy.stats as stats\n",
    "import seaborn as sns\n",
    "from sklearn.linear_model import LinearRegression\n",
    "from sklearn import linear_model\n",
    "import statsmodels.api as sm"
   ]
  },
  {
   "cell_type": "code",
   "execution_count": 2,
   "id": "d06ae3bb",
   "metadata": {},
   "outputs": [],
   "source": [
    "#Download csv file\n",
    "NPP_file = pd.read_csv('Ecosystem_NPP.csv')"
   ]
  },
  {
   "cell_type": "code",
   "execution_count": 3,
   "id": "200a2132",
   "metadata": {},
   "outputs": [
    {
     "data": {
      "text/html": [
       "<div>\n",
       "<style scoped>\n",
       "    .dataframe tbody tr th:only-of-type {\n",
       "        vertical-align: middle;\n",
       "    }\n",
       "\n",
       "    .dataframe tbody tr th {\n",
       "        vertical-align: top;\n",
       "    }\n",
       "\n",
       "    .dataframe thead th {\n",
       "        text-align: right;\n",
       "    }\n",
       "</style>\n",
       "<table border=\"1\" class=\"dataframe\">\n",
       "  <thead>\n",
       "    <tr style=\"text-align: right;\">\n",
       "      <th></th>\n",
       "      <th>Site</th>\n",
       "      <th>Vegetation</th>\n",
       "      <th>MeanNPPobs_gCm−2yr−1</th>\n",
       "      <th>Precipitation_cm</th>\n",
       "      <th>MAT_C</th>\n",
       "      <th>Carbon Nitrogen Ratio</th>\n",
       "    </tr>\n",
       "  </thead>\n",
       "  <tbody>\n",
       "    <tr>\n",
       "      <th>0</th>\n",
       "      <td>Mid-west Agricultrual</td>\n",
       "      <td>Corn</td>\n",
       "      <td>839</td>\n",
       "      <td>99</td>\n",
       "      <td>11.23</td>\n",
       "      <td>10</td>\n",
       "    </tr>\n",
       "    <tr>\n",
       "      <th>1</th>\n",
       "      <td>Mid-west Agricultrual</td>\n",
       "      <td>Soybean</td>\n",
       "      <td>379</td>\n",
       "      <td>99</td>\n",
       "      <td>11.23</td>\n",
       "      <td>11</td>\n",
       "    </tr>\n",
       "    <tr>\n",
       "      <th>2</th>\n",
       "      <td>Temperate Forest</td>\n",
       "      <td>Deciduous Forest</td>\n",
       "      <td>679</td>\n",
       "      <td>111</td>\n",
       "      <td>8.31</td>\n",
       "      <td>24</td>\n",
       "    </tr>\n",
       "    <tr>\n",
       "      <th>3</th>\n",
       "      <td>Temperate Forest</td>\n",
       "      <td>Conifer Forest</td>\n",
       "      <td>552</td>\n",
       "      <td>111</td>\n",
       "      <td>8.31</td>\n",
       "      <td>37</td>\n",
       "    </tr>\n",
       "    <tr>\n",
       "      <th>4</th>\n",
       "      <td>Temperate Conifer</td>\n",
       "      <td>Conifer Forest</td>\n",
       "      <td>356</td>\n",
       "      <td>44</td>\n",
       "      <td>7.75</td>\n",
       "      <td>40</td>\n",
       "    </tr>\n",
       "    <tr>\n",
       "      <th>5</th>\n",
       "      <td>Boreal Forest</td>\n",
       "      <td>Upland Black Spruce</td>\n",
       "      <td>251</td>\n",
       "      <td>52</td>\n",
       "      <td>-3.20</td>\n",
       "      <td>60</td>\n",
       "    </tr>\n",
       "    <tr>\n",
       "      <th>6</th>\n",
       "      <td>Boreal Forest</td>\n",
       "      <td>Open Black Spruce</td>\n",
       "      <td>181</td>\n",
       "      <td>52</td>\n",
       "      <td>-3.20</td>\n",
       "      <td>50</td>\n",
       "    </tr>\n",
       "    <tr>\n",
       "      <th>7</th>\n",
       "      <td>Arctic Plain</td>\n",
       "      <td>Grassland</td>\n",
       "      <td>64</td>\n",
       "      <td>5</td>\n",
       "      <td>-10.91</td>\n",
       "      <td>25</td>\n",
       "    </tr>\n",
       "    <tr>\n",
       "      <th>8</th>\n",
       "      <td>Desert grassland</td>\n",
       "      <td>Grassland</td>\n",
       "      <td>54</td>\n",
       "      <td>35</td>\n",
       "      <td>13.57</td>\n",
       "      <td>24</td>\n",
       "    </tr>\n",
       "  </tbody>\n",
       "</table>\n",
       "</div>"
      ],
      "text/plain": [
       "                    Site           Vegetation  MeanNPPobs_gCm−2yr−1  \\\n",
       "0  Mid-west Agricultrual                 Corn                   839   \n",
       "1  Mid-west Agricultrual              Soybean                   379   \n",
       "2       Temperate Forest     Deciduous Forest                   679   \n",
       "3       Temperate Forest       Conifer Forest                   552   \n",
       "4      Temperate Conifer       Conifer Forest                   356   \n",
       "5          Boreal Forest  Upland Black Spruce                   251   \n",
       "6          Boreal Forest    Open Black Spruce                   181   \n",
       "7           Arctic Plain            Grassland                    64   \n",
       "8       Desert grassland            Grassland                    54   \n",
       "\n",
       "   Precipitation_cm  MAT_C  Carbon Nitrogen Ratio  \n",
       "0                99  11.23                     10  \n",
       "1                99  11.23                     11  \n",
       "2               111   8.31                     24  \n",
       "3               111   8.31                     37  \n",
       "4                44   7.75                     40  \n",
       "5                52  -3.20                     60  \n",
       "6                52  -3.20                     50  \n",
       "7                 5 -10.91                     25  \n",
       "8                35  13.57                     24  "
      ]
     },
     "execution_count": 3,
     "metadata": {},
     "output_type": "execute_result"
    }
   ],
   "source": [
    "#Print csv file name\n",
    "NPP_file"
   ]
  },
  {
   "cell_type": "code",
   "execution_count": 4,
   "id": "869b9dc6",
   "metadata": {},
   "outputs": [
    {
     "name": "stdout",
     "output_type": "stream",
     "text": [
      "NPP and C:N LinregressResult(slope=-0.024023666773747076, intercept=40.17771133621349, rvalue=-0.38601095799977414, pvalue=0.30484005454690416, stderr=0.021699727683955974, intercept_stderr=9.819155416859005)\n"
     ]
    },
    {
     "data": {
      "image/png": "[encoded data removed]",
      "text/plain": [
       "<Figure size 576x432 with 1 Axes>"
      ]
     },
     "metadata": {
      "needs_background": "light"
     },
     "output_type": "display_data"
    }
   ],
   "source": [
    "#Part 1 Figure\n",
    "# Creating individual plots comparing NPP to C:N, and MAT_C to see linear relationships \n",
    "#NPP and C:N\n",
    "plt.figure(figsize=(8,6))\n",
    "\n",
    "x = NPP_file['MeanNPPobs_gCm−2yr−1']\n",
    "y = NPP_file['Carbon Nitrogen Ratio']\n",
    "plt.plot(x, y, 'go')\n",
    "\n",
    "#obtain m (slope) and b(intercept) of linear regression line\n",
    "m, b = np.polyfit(x, y, 1)\n",
    "\n",
    "#add linear regression line to scatterplot \n",
    "plt.plot(x, m*x+b, color='r', linestyle='solid')\n",
    "\n",
    "from scipy.stats import linregress\n",
    "x = NPP_file['MeanNPPobs_gCm−2yr−1']\n",
    "y = NPP_file['Carbon Nitrogen Ratio']\n",
    "res = stats.linregress(x, y)\n",
    "print('NPP and C:N',res)\n",
    "plt.ylabel('C:N Ratio')\n",
    "plt.xlabel('Mean NPP (g C/ m2 yr)')\n",
    "plt.grid()\n",
    "plt.tight_layout(pad=3)\n",
    "plt.savefig('NPP vs Cto N.png')\n",
    "plt.show()"
   ]
  },
  {
   "cell_type": "code",
   "execution_count": 5,
   "id": "2998a5c9",
   "metadata": {},
   "outputs": [
    {
     "name": "stdout",
     "output_type": "stream",
     "text": [
      "NPP and MAT LinregressResult(slope=0.015631062678071232, intercept=-1.039135031658775, rvalue=0.5048072794802313, pvalue=0.16573817777335279, stderr=0.010102792733765485, intercept_stderr=4.57152704595933)\n"
     ]
    },
    {
     "data": {
      "image/png": "[encoded data removed]",
      "text/plain": [
       "<Figure size 576x432 with 1 Axes>"
      ]
     },
     "metadata": {
      "needs_background": "light"
     },
     "output_type": "display_data"
    }
   ],
   "source": [
    "#Part 1 Figure\n",
    "#Creating individual linear regression plots comparing NPP to and MAT_C \n",
    "#NPP and MAT_C\n",
    "plt.figure(figsize=(8,6))\n",
    "\n",
    "x = NPP_file['MeanNPPobs_gCm−2yr−1']\n",
    "y = NPP_file['MAT_C']\n",
    "plt.plot(x, y, 'ko')\n",
    "\n",
    "#obtain m (slope) and b(intercept) of linear regression line\n",
    "m, b = np.polyfit(x, y, 1)\n",
    "\n",
    "\n",
    "#add linear regression line to scatterplot \n",
    "plt.plot(x, m*x+b, color='r', linestyle='solid')\n",
    "\n",
    "#create a linear regression trend\n",
    "from scipy.stats import linregress\n",
    "x = NPP_file['MeanNPPobs_gCm−2yr−1']\n",
    "y = NPP_file['MAT_C']\n",
    "res = stats.linregress(x, y)\n",
    "print('NPP and MAT',res)\n",
    "\n",
    "plt.ylabel('Mean Air Temperature (C)')\n",
    "plt.xlabel('Mean NPP (g C/ m2 yr)')\n",
    "plt.tight_layout(pad=3)\n",
    "plt.grid()\n",
    "plt.savefig('NPP vs MAT.png')\n",
    "plt.show()"
   ]
  },
  {
   "cell_type": "code",
   "execution_count": 6,
   "id": "54ad982f",
   "metadata": {},
   "outputs": [
    {
     "name": "stdout",
     "output_type": "stream",
     "text": [
      "Precipitation and NPP LinregressResult(slope=0.11975412284625751, intercept=22.913879761200675, rvalue=0.8496182540726184, pvalue=0.003736416927652011, stderr=0.02809675937651325, intercept_stderr=12.71382070071114)\n"
     ]
    },
    {
     "data": {
      "image/png": "[encoded data removed]",
      "text/plain": [
       "<Figure size 576x432 with 1 Axes>"
      ]
     },
     "metadata": {
      "needs_background": "light"
     },
     "output_type": "display_data"
    }
   ],
   "source": [
    "#Part 1 Figure\n",
    "#Creating individual linear regression plots comparing NPP to Precipitation\n",
    "#NPP and Precipitaion\n",
    "plt.figure(figsize=(8,6))\n",
    "\n",
    "x = NPP_file['MeanNPPobs_gCm−2yr−1']\n",
    "y = NPP_file['Precipitation_cm']\n",
    "plt.plot(x, y, 'bo')\n",
    "\n",
    "#obtain m (slope) and b(intercept) of linear regression line\n",
    "m, b = np.polyfit(x, y, 1)\n",
    "\n",
    "#add linear regression line to scatterplot \n",
    "plt.plot(x, m*x+b, color='r', linestyle='solid')\n",
    "\n",
    "from scipy.stats import linregress\n",
    "x = NPP_file['MeanNPPobs_gCm−2yr−1']\n",
    "y = NPP_file['Precipitation_cm']\n",
    "res = stats.linregress(x, y)\n",
    "print('Precipitation and NPP',res)\n",
    "plt.ylabel('Precipitation (cm)')\n",
    "plt.xlabel('Mean NPP (g C/ m2 yr)')\n",
    "plt.grid()\n",
    "plt.tight_layout(pad=3)\n",
    "plt.savefig('NPP vs Precip.png')\n",
    "plt.show()"
   ]
  },
  {
   "cell_type": "code",
   "execution_count": 9,
   "id": "09c0d9b2",
   "metadata": {},
   "outputs": [
    {
     "name": "stdout",
     "output_type": "stream",
     "text": [
      "Intercept: \n",
      " 56.75674555811315\n",
      "Coefficients: \n",
      " [ 6.13111538 -3.53605254 -2.60199415]\n",
      "                             OLS Regression Results                             \n",
      "================================================================================\n",
      "Dep. Variable:     MeanNPPobs_gCm−2yr−1   R-squared:                       0.741\n",
      "Model:                              OLS   Adj. R-squared:                  0.586\n",
      "Method:                   Least Squares   F-statistic:                     4.780\n",
      "Date:                  Wed, 04 Oct 2023   Prob (F-statistic):             0.0625\n",
      "Time:                          13:11:50   Log-Likelihood:                -56.608\n",
      "No. Observations:                     9   AIC:                             121.2\n",
      "Df Residuals:                         5   BIC:                             122.0\n",
      "Df Model:                             3                                         \n",
      "Covariance Type:              nonrobust                                         \n",
      "=========================================================================================\n",
      "                            coef    std err          t      P>|t|      [0.025      0.975]\n",
      "-----------------------------------------------------------------------------------------\n",
      "const                    56.7567    202.941      0.280      0.791    -464.919     578.433\n",
      "Precipitation_cm          6.1311      2.043      3.000      0.030       0.878      11.384\n",
      "MAT_C                    -3.5361     10.288     -0.344      0.745     -29.981      22.909\n",
      "Carbon Nitrogen Ratio    -2.6020      4.273     -0.609      0.569     -13.587       8.383\n",
      "==============================================================================\n",
      "Omnibus:                        0.368   Durbin-Watson:                   2.458\n",
      "Prob(Omnibus):                  0.832   Jarque-Bera (JB):                0.253\n",
      "Skew:                           0.311   Prob(JB):                        0.881\n",
      "Kurtosis:                       2.463   Cond. No.                         283.\n",
      "==============================================================================\n",
      "\n",
      "Notes:\n",
      "[1] Standard Errors assume that the covariance matrix of the errors is correctly specified.\n"
     ]
    }
   ],
   "source": [
    "#Part 1 Statistical Analysis - Multiple Linear Regression \n",
    "\n",
    "#These are the independent variables\n",
    "x = NPP_file[['Precipitation_cm', 'MAT_C', 'Carbon Nitrogen Ratio']] \n",
    "#This is the dependent variable\n",
    "y = NPP_file['MeanNPPobs_gCm−2yr−1'] \n",
    "#Modeling the linear regression\n",
    "regr = linear_model.LinearRegression() \n",
    "regr.fit(x, y)\n",
    "\n",
    "print('Intercept: \\n', regr.intercept_)\n",
    "print('Coefficients: \\n', regr.coef_)\n",
    "\n",
    "#Add constant\n",
    "x = sm.add_constant(x) \n",
    "\n",
    "model = sm.OLS(y, x).fit()\n",
    "predictions = model.predict(x)\n",
    "\n",
    "#print the multiple linear regression output\n",
    "print_model = model.summary()\n",
    "\n",
    "import warnings\n",
    "warnings.filterwarnings(\"ignore\")\n",
    "\n",
    "print(print_model)"
   ]
  },
  {
   "cell_type": "code",
   "execution_count": 10,
   "id": "9d5007c2",
   "metadata": {},
   "outputs": [
    {
     "data": {
      "text/plain": [
       "0.1228036"
      ]
     },
     "metadata": {},
     "output_type": "display_data"
    }
   ],
   "source": [
    "#Part 2 Calculation\n",
    "#NPP and Precipitation have the highest r2 value of 0.8496\n",
    "\n",
    "#Additional Information\n",
    "#linear regression: y=m*x+b\n",
    "#Area = 400 km\n",
    "#1 Tg = 10**12 g\n",
    "#1 km2 = 10**6 m2\n",
    "#time = 10 years\n",
    "#Mean Annual Precip = 65\n",
    "\n",
    "m = 0.1198 #slope\n",
    "b = 22.9139 # intercept\n",
    "x = 65\n",
    "y = m*x + b\n",
    "\n",
    "NPP_Tg = (y*(10**6)*400*10)/(10**12)\n",
    "display(NPP_Tg)"
   ]
  }
 ],
 "metadata": {
  "kernelspec": {
   "display_name": "Python 3 (ipykernel)",
   "language": "python",
   "name": "python3"
  },
  "language_info": {
   "codemirror_mode": {
    "name": "ipython",
    "version": 3
   },
   "file_extension": ".py",
   "mimetype": "text/x-python",
   "name": "python",
   "nbconvert_exporter": "python",
   "pygments_lexer": "ipython3",
   "version": "3.9.12"
  }
 },
 "nbformat": 4,
 "nbformat_minor": 5
}
