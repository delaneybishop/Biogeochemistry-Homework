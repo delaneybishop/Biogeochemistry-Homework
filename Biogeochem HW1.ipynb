{
 "cells": [
  {
   "cell_type": "code",
   "execution_count": 1,
   "id": "48b4b55a-cf1d-4347-95d0-f2988d3cf02d",
   "metadata": {},
   "outputs": [],
   "source": [
    "#Import libraries\n",
    "import numpy as np\n",
    "import pandas as pd\n",
    "import matplotlib.pyplot as plt\n",
    "from numpy.random import randn"
   ]
  },
  {
   "cell_type": "code",
   "execution_count": 2,
   "id": "4c2f30f0-ece5-4dd6-9303-2fcd77012177",
   "metadata": {},
   "outputs": [],
   "source": [
    "#Download csv file\n",
    "Dust_file = pd.read_csv('dust_dataHW1 (1).csv')"
   ]
  },
  {
   "cell_type": "code",
   "execution_count": 3,
   "id": "9e7cf32e-30b0-4d80-9e10-e722960f330d",
   "metadata": {},
   "outputs": [
    {
     "data": {
      "text/html": [
       "<div>\n",
       "<style scoped>\n",
       "    .dataframe tbody tr th:only-of-type {\n",
       "        vertical-align: middle;\n",
       "    }\n",
       "\n",
       "    .dataframe tbody tr th {\n",
       "        vertical-align: top;\n",
       "    }\n",
       "\n",
       "    .dataframe thead th {\n",
       "        text-align: right;\n",
       "    }\n",
       "</style>\n",
       "<table border=\"1\" class=\"dataframe\">\n",
       "  <thead>\n",
       "    <tr style=\"text-align: right;\">\n",
       "      <th></th>\n",
       "      <th>Unnamed: 0</th>\n",
       "      <th>Ecosystem</th>\n",
       "      <th>Season</th>\n",
       "      <th>P_conc</th>\n",
       "      <th>Ca_conc</th>\n",
       "      <th>flux_gm2yr</th>\n",
       "    </tr>\n",
       "  </thead>\n",
       "  <tbody>\n",
       "    <tr>\n",
       "      <th>0</th>\n",
       "      <td>1</td>\n",
       "      <td>Foothills</td>\n",
       "      <td>NDJ</td>\n",
       "      <td>1028.00</td>\n",
       "      <td>10861.0</td>\n",
       "      <td>5.307173</td>\n",
       "    </tr>\n",
       "    <tr>\n",
       "      <th>1</th>\n",
       "      <td>2</td>\n",
       "      <td>Montane</td>\n",
       "      <td>NDJ</td>\n",
       "      <td>778.00</td>\n",
       "      <td>7455.0</td>\n",
       "      <td>8.608287</td>\n",
       "    </tr>\n",
       "    <tr>\n",
       "      <th>2</th>\n",
       "      <td>3</td>\n",
       "      <td>Foothills</td>\n",
       "      <td>FMA</td>\n",
       "      <td>1134.00</td>\n",
       "      <td>9418.0</td>\n",
       "      <td>6.999662</td>\n",
       "    </tr>\n",
       "    <tr>\n",
       "      <th>3</th>\n",
       "      <td>4</td>\n",
       "      <td>Montane</td>\n",
       "      <td>FMA</td>\n",
       "      <td>1235.50</td>\n",
       "      <td>8839.5</td>\n",
       "      <td>7.370548</td>\n",
       "    </tr>\n",
       "    <tr>\n",
       "      <th>4</th>\n",
       "      <td>5</td>\n",
       "      <td>Plains</td>\n",
       "      <td>MJ</td>\n",
       "      <td>2417.95</td>\n",
       "      <td>8247.0</td>\n",
       "      <td>15.986543</td>\n",
       "    </tr>\n",
       "    <tr>\n",
       "      <th>5</th>\n",
       "      <td>6</td>\n",
       "      <td>Foothills</td>\n",
       "      <td>MJ</td>\n",
       "      <td>3245.30</td>\n",
       "      <td>5843.0</td>\n",
       "      <td>21.734655</td>\n",
       "    </tr>\n",
       "    <tr>\n",
       "      <th>6</th>\n",
       "      <td>7</td>\n",
       "      <td>Montane</td>\n",
       "      <td>MJ</td>\n",
       "      <td>3558.50</td>\n",
       "      <td>4760.5</td>\n",
       "      <td>12.983546</td>\n",
       "    </tr>\n",
       "    <tr>\n",
       "      <th>7</th>\n",
       "      <td>8</td>\n",
       "      <td>Plains</td>\n",
       "      <td>JAS</td>\n",
       "      <td>2007.50</td>\n",
       "      <td>9701.5</td>\n",
       "      <td>14.282538</td>\n",
       "    </tr>\n",
       "    <tr>\n",
       "      <th>8</th>\n",
       "      <td>9</td>\n",
       "      <td>Foothills</td>\n",
       "      <td>JAS</td>\n",
       "      <td>2652.00</td>\n",
       "      <td>8372.5</td>\n",
       "      <td>9.707827</td>\n",
       "    </tr>\n",
       "    <tr>\n",
       "      <th>9</th>\n",
       "      <td>10</td>\n",
       "      <td>Montane</td>\n",
       "      <td>JAS</td>\n",
       "      <td>2813.00</td>\n",
       "      <td>7236.5</td>\n",
       "      <td>10.445604</td>\n",
       "    </tr>\n",
       "    <tr>\n",
       "      <th>10</th>\n",
       "      <td>11</td>\n",
       "      <td>Subalpine</td>\n",
       "      <td>JAS</td>\n",
       "      <td>1958.00</td>\n",
       "      <td>7061.0</td>\n",
       "      <td>11.843223</td>\n",
       "    </tr>\n",
       "    <tr>\n",
       "      <th>11</th>\n",
       "      <td>12</td>\n",
       "      <td>Alpine</td>\n",
       "      <td>JAS</td>\n",
       "      <td>3351.00</td>\n",
       "      <td>12149.5</td>\n",
       "      <td>6.371747</td>\n",
       "    </tr>\n",
       "  </tbody>\n",
       "</table>\n",
       "</div>"
      ],
      "text/plain": [
       "    Unnamed: 0  Ecosystem Season   P_conc  Ca_conc  flux_gm2yr\n",
       "0            1  Foothills    NDJ  1028.00  10861.0    5.307173\n",
       "1            2    Montane    NDJ   778.00   7455.0    8.608287\n",
       "2            3  Foothills    FMA  1134.00   9418.0    6.999662\n",
       "3            4    Montane    FMA  1235.50   8839.5    7.370548\n",
       "4            5     Plains     MJ  2417.95   8247.0   15.986543\n",
       "5            6  Foothills     MJ  3245.30   5843.0   21.734655\n",
       "6            7    Montane     MJ  3558.50   4760.5   12.983546\n",
       "7            8     Plains    JAS  2007.50   9701.5   14.282538\n",
       "8            9  Foothills    JAS  2652.00   8372.5    9.707827\n",
       "9           10    Montane    JAS  2813.00   7236.5   10.445604\n",
       "10          11  Subalpine    JAS  1958.00   7061.0   11.843223\n",
       "11          12     Alpine    JAS  3351.00  12149.5    6.371747"
      ]
     },
     "execution_count": 3,
     "metadata": {},
     "output_type": "execute_result"
    }
   ],
   "source": [
    "#Print csv file name\n",
    "Dust_file"
   ]
  },
  {
   "cell_type": "code",
   "execution_count": 4,
   "id": "3c8b6758-6637-4c95-9523-62291a38f383",
   "metadata": {},
   "outputs": [],
   "source": [
    "#Deliverable 2 Part 1\n",
    "#Calculate Ca and P flux\n",
    "\n",
    "#Units: \n",
    "#P_conc: mg/l\n",
    "#Ca_conc: mg/l\n",
    "#Flux: g/m2 yr\n",
    "#Ca_flux: g/m2 yr\n",
    "#P_flux: g/m2 yr\n",
    "#Density of water: L/g\n",
    "\n",
    "#Conversions\n",
    "#0.001 L = 1 g\n",
    "#1000 mg = 1 g\n",
    "\n",
    "#Convert mg/l of Ca and P to g/l by dividing by 1000 mg\n",
    "Ca_conc_g_per_L = Dust_file['Ca_conc']/1000\n",
    "P_conc_g_per_L = Dust_file['P_conc']/1000\n",
    "\n",
    "#Density of water in L/g\n",
    "density_of_water = (0.001/1)\n",
    "\n",
    "#Flux\n",
    "Flux = Dust_file['flux_gm2yr']\n",
    "\n",
    "#Ca and P in g/m2yr by multiplying by density of water and the flux\n",
    "Ca_flux = Ca_conc_g_per_L*density_of_water*Flux\n",
    "P_flux = P_conc_g_per_L*density_of_water*Flux\n",
    "\n"
   ]
  },
  {
   "cell_type": "code",
   "execution_count": 5,
   "id": "5f88d961-204e-4341-a494-334df820dc83",
   "metadata": {},
   "outputs": [
    {
     "data": {
      "text/plain": [
       "0     0.057641\n",
       "1     0.064175\n",
       "2     0.065923\n",
       "3     0.065152\n",
       "4     0.131841\n",
       "5     0.126996\n",
       "6     0.061808\n",
       "7     0.138562\n",
       "8     0.081279\n",
       "9     0.075590\n",
       "10    0.083625\n",
       "11    0.077414\n",
       "dtype: float64"
      ]
     },
     "execution_count": 5,
     "metadata": {},
     "output_type": "execute_result"
    }
   ],
   "source": [
    "Ca_flux"
   ]
  },
  {
   "cell_type": "code",
   "execution_count": 6,
   "id": "ca01642e-b710-4b1f-9242-1f64f20ee19d",
   "metadata": {},
   "outputs": [
    {
     "data": {
      "text/plain": [
       "0     0.005456\n",
       "1     0.006697\n",
       "2     0.007938\n",
       "3     0.009106\n",
       "4     0.038655\n",
       "5     0.070535\n",
       "6     0.046202\n",
       "7     0.028672\n",
       "8     0.025745\n",
       "9     0.029383\n",
       "10    0.023189\n",
       "11    0.021352\n",
       "dtype: float64"
      ]
     },
     "execution_count": 6,
     "metadata": {},
     "output_type": "execute_result"
    }
   ],
   "source": [
    "P_flux"
   ]
  },
  {
   "cell_type": "code",
   "execution_count": 7,
   "id": "7783b1d2-6e0a-47c9-977a-e0de1323616a",
   "metadata": {},
   "outputs": [
    {
     "data": {
      "image/png": "[encoded data removed]",
      "text/plain": [
       "<Figure size 432x288 with 1 Axes>"
      ]
     },
     "metadata": {
      "needs_background": "light"
     },
     "output_type": "display_data"
    }
   ],
   "source": [
    "#Deliverable 1 Part 1\n",
    "#Patterns of Ca flux along elevation across season\n",
    "\n",
    "##Add Ca_flux to the dataframe\n",
    "Dust_file['Ca_flux'] = Ca_flux\n",
    "\n",
    "#Plot Ca_flux\n",
    "plt.figure(figsize=(6, 4))\n",
    "x = Ca_flux\n",
    "y = Dust_file['Ecosystem']\n",
    "groups = Dust_file.groupby('Season')\n",
    "for name, group in groups:\n",
    "    plt.plot(group['Ca_flux'], group['Ecosystem'], marker='o', linestyle='', markersize=7, label=name)\n",
    "plt.legend(loc=\"upper right\", title=\"Season\", fontsize=10)\n",
    "plt.title('Calcium Flux Deposition in the Colorado Front Range')\n",
    "plt.ylabel('Ecosystem Type')\n",
    "plt.xlabel('Calcium flux (g/m2 yr)')\n",
    "plt.tick_params(labelrotation=45)\n",
    "plt.scatter(x, y)\n",
    "plt.grid()\n",
    "plt.savefig('Calcium Flux Deposition.png')\n",
    "plt.show()"
   ]
  },
  {
   "cell_type": "code",
   "execution_count": 8,
   "id": "b8dd9f9a-3106-49ab-8437-b4a61a642921",
   "metadata": {},
   "outputs": [
    {
     "data": {
      "image/png": "[encoded data removed]",
      "text/plain": [
       "<Figure size 432x288 with 1 Axes>"
      ]
     },
     "metadata": {
      "needs_background": "light"
     },
     "output_type": "display_data"
    }
   ],
   "source": [
    "#Deliverable 1 Part 1\n",
    "#Patterns of Ca flux along elevation across season\n",
    "\n",
    "##Add Ca_flux to the dataframe\n",
    "Dust_file['P_flux'] = P_flux\n",
    "\n",
    "#Plot P_flux\n",
    "plt.figure(figsize=(6, 4))\n",
    "x = P_flux\n",
    "y = Dust_file['Ecosystem']\n",
    "groups = Dust_file.groupby('Season')\n",
    "for name, group in groups:\n",
    "    plt.plot(group['P_flux'], group['Ecosystem'], marker='o', linestyle='', markersize=7, label=name)\n",
    "plt.legend(loc=\"upper right\", title=\"Season\", fontsize=10)\n",
    "plt.title('Phosphorus Flux Deposition in the Colorado Front Range')\n",
    "plt.ylabel('Ecosystem Type')\n",
    "plt.xlabel('Phosphorus flux (g/m2 yr)')\n",
    "plt.tick_params(labelrotation=45)\n",
    "plt.scatter(x, y)\n",
    "plt.grid()\n",
    "plt.savefig('Phosphorus Flux Deposition.jpg')\n",
    "plt.show()"
   ]
  },
  {
   "cell_type": "code",
   "execution_count": 9,
   "id": "9d4aca3e-2cd8-4f07-b9d4-5149d6872d57",
   "metadata": {},
   "outputs": [
    {
     "name": "stdout",
     "output_type": "stream",
     "text": [
      "131.89000000000001\n"
     ]
    }
   ],
   "source": [
    "#Deliverable 1 Part 2\n",
    "#Net P change in the watershed calculations\n",
    "\n",
    "#Equations\n",
    "#Input_P-Output_P = Net_P_Change\n",
    "\n",
    "#Units: \n",
    "#Watershed_Area: km2\n",
    "#Export_P: kg/ha yr\n",
    "#Summer Alpine P Flux: g/m2 yr\n",
    "#Output_P: kg/yr\n",
    "#Input_P: kg/yr\n",
    "#Net_P_Change: kg/yr\n",
    "\n",
    "#Conversions\n",
    "#1 km2 = 100 ha\n",
    "#1 km2 = 1000000 m2\n",
    "#1 g = 0.001 kg\n",
    "\n",
    "#List values\n",
    "Watershed_Area = 10 \n",
    "Export_P = 0.1\n",
    "Alpine_Summer_Flux = 0.023189\n",
    "\n",
    "#Multiply Watershed_Area by 100 ha/1 km2 to convert to hectares\n",
    "Watershed_Area_ha = Watershed_Area*100\n",
    "\n",
    "#Multiply Export_P by Watershed_Area_ha to convert to kg/yr\n",
    "Output_P = Export_P*Watershed_Area_ha\n",
    "\n",
    "#Multiply Alpine_Summer_Flux by 0.001 kg/1 g to convert to kg/m2 yr\n",
    "Alpine_Summer_Flux_kg = Alpine_Summer_Flux*0.001\n",
    "\n",
    "#Multiply Watershed_Area by 1000000 m2/1 km2 to convert to m2\n",
    "Watershed_Area_m2 = Watershed_Area*1000000\n",
    "\n",
    "#Multiply Alpine_Summer_Flux_kg by Watershed_Area_m2 to convert  from kg/m2 yr to kg/yr\n",
    "Input_P = Alpine_Summer_Flux_kg*Watershed_Area_m2\n",
    "\n",
    "#Net_P_Change Equation\n",
    "Net_P_Change = Input_P-Output_P\n",
    "\n",
    "#Net_P_Change in kg/yr\n",
    "print(Net_P_Change)"
   ]
  }
 ],
 "metadata": {
  "kernelspec": {
   "display_name": "Python 3 (ipykernel)",
   "language": "python",
   "name": "python3"
  },
  "language_info": {
   "codemirror_mode": {
    "name": "ipython",
    "version": 3
   },
   "file_extension": ".py",
   "mimetype": "text/x-python",
   "name": "python",
   "nbconvert_exporter": "python",
   "pygments_lexer": "ipython3",
   "version": "3.9.12"
  }
 },
 "nbformat": 4,
 "nbformat_minor": 5
}
